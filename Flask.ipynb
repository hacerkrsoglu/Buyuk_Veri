{
  "cells": [
    {
      "cell_type": "code",
      "execution_count": null,
      "metadata": {
        "colab": {
          "base_uri": "https://localhost:8080/"
        },
        "id": "1eaM1SmAFmvI",
        "outputId": "919e983b-799f-49fa-d268-7db241674be9"
      },
      "outputs": [
        {
          "output_type": "stream",
          "name": "stdout",
          "text": [
            "Drive already mounted at /content/drive; to attempt to forcibly remount, call drive.mount(\"/content/drive\", force_remount=True).\n"
          ]
        }
      ],
      "source": [
        "from google.colab import drive\n",
        "drive.mount('/content/drive')"
      ]
    },
    {
      "cell_type": "code",
      "execution_count": null,
      "metadata": {
        "colab": {
          "base_uri": "https://localhost:8080/",
          "height": 1000
        },
        "id": "4eVeC1egGKFs",
        "outputId": "88394c02-0996-4809-f552-a6892fb60eed"
      },
      "outputs": [
        {
          "output_type": "stream",
          "name": "stdout",
          "text": [
            "\u001b[33mWARNING: Skipping flask-ngrok as it is not installed.\u001b[0m\u001b[33m\n",
            "\u001b[0mCollecting pyngrok\n",
            "  Downloading pyngrok-7.2.11-py3-none-any.whl.metadata (9.4 kB)\n",
            "Requirement already satisfied: PyYAML>=5.1 in /usr/local/lib/python3.11/dist-packages (from pyngrok) (6.0.2)\n",
            "Downloading pyngrok-7.2.11-py3-none-any.whl (25 kB)\n",
            "Installing collected packages: pyngrok\n",
            "Successfully installed pyngrok-7.2.11\n",
            "Hit:1 http://archive.ubuntu.com/ubuntu jammy InRelease\n",
            "Get:2 http://archive.ubuntu.com/ubuntu jammy-updates InRelease [128 kB]\n",
            "Get:3 http://security.ubuntu.com/ubuntu jammy-security InRelease [129 kB]\n",
            "Get:4 http://archive.ubuntu.com/ubuntu jammy-backports InRelease [127 kB]\n",
            "Get:5 https://cloud.r-project.org/bin/linux/ubuntu jammy-cran40/ InRelease [3,632 B]\n",
            "Hit:6 https://developer.download.nvidia.com/compute/cuda/repos/ubuntu2204/x86_64  InRelease\n",
            "Hit:7 https://ppa.launchpadcontent.net/deadsnakes/ppa/ubuntu jammy InRelease\n",
            "Hit:8 https://ppa.launchpadcontent.net/graphics-drivers/ppa/ubuntu jammy InRelease\n",
            "Hit:9 https://ppa.launchpadcontent.net/ubuntugis/ppa/ubuntu jammy InRelease\n",
            "Get:10 http://security.ubuntu.com/ubuntu jammy-security/universe amd64 Packages [1,246 kB]\n",
            "Get:11 https://r2u.stat.illinois.edu/ubuntu jammy InRelease [6,555 B]\n",
            "Get:12 http://security.ubuntu.com/ubuntu jammy-security/main amd64 Packages [2,984 kB]\n",
            "Get:13 http://archive.ubuntu.com/ubuntu jammy-updates/universe amd64 Packages [1,553 kB]\n",
            "Get:14 http://archive.ubuntu.com/ubuntu jammy-updates/main amd64 Packages [3,295 kB]\n",
            "Get:15 https://r2u.stat.illinois.edu/ubuntu jammy/main amd64 Packages [2,742 kB]\n",
            "Get:16 https://r2u.stat.illinois.edu/ubuntu jammy/main all Packages [9,021 kB]\n",
            "74% [16 Packages 2,179 kB/9,021 kB 24%]^C\n",
            "Collecting flask-cors\n",
            "  Downloading flask_cors-6.0.0-py3-none-any.whl.metadata (961 bytes)\n",
            "Requirement already satisfied: flask>=0.9 in /usr/local/lib/python3.11/dist-packages (from flask-cors) (3.1.1)\n",
            "Requirement already satisfied: Werkzeug>=0.7 in /usr/local/lib/python3.11/dist-packages (from flask-cors) (3.1.3)\n",
            "Requirement already satisfied: blinker>=1.9.0 in /usr/local/lib/python3.11/dist-packages (from flask>=0.9->flask-cors) (1.9.0)\n",
            "Requirement already satisfied: click>=8.1.3 in /usr/local/lib/python3.11/dist-packages (from flask>=0.9->flask-cors) (8.2.1)\n",
            "Requirement already satisfied: itsdangerous>=2.2.0 in /usr/local/lib/python3.11/dist-packages (from flask>=0.9->flask-cors) (2.2.0)\n",
            "Requirement already satisfied: jinja2>=3.1.2 in /usr/local/lib/python3.11/dist-packages (from flask>=0.9->flask-cors) (3.1.6)\n",
            "Requirement already satisfied: markupsafe>=2.1.1 in /usr/local/lib/python3.11/dist-packages (from flask>=0.9->flask-cors) (3.0.2)\n",
            "Downloading flask_cors-6.0.0-py3-none-any.whl (11 kB)\n",
            "Installing collected packages: flask-cors\n",
            "Successfully installed flask-cors-6.0.0\n",
            "Collecting pytesseract\n",
            "  Downloading pytesseract-0.3.13-py3-none-any.whl.metadata (11 kB)\n",
            "Requirement already satisfied: opencv-python in /usr/local/lib/python3.11/dist-packages (4.11.0.86)\n",
            "Requirement already satisfied: packaging>=21.3 in /usr/local/lib/python3.11/dist-packages (from pytesseract) (24.2)\n",
            "Requirement already satisfied: Pillow>=8.0.0 in /usr/local/lib/python3.11/dist-packages (from pytesseract) (11.2.1)\n",
            "Requirement already satisfied: numpy>=1.21.2 in /usr/local/lib/python3.11/dist-packages (from opencv-python) (2.0.2)\n",
            "Downloading pytesseract-0.3.13-py3-none-any.whl (14 kB)\n",
            "Traceback (most recent call last):\n",
            "  File \"/usr/local/lib/python3.11/dist-packages/pip/_internal/cli/base_command.py\", line 179, in exc_logging_wrapper\n",
            "    status = run_func(*args)\n",
            "             ^^^^^^^^^^^^^^^\n",
            "  File \"/usr/local/lib/python3.11/dist-packages/pip/_internal/cli/req_command.py\", line 67, in wrapper\n",
            "    return func(self, options, args)\n",
            "           ^^^^^^^^^^^^^^^^^^^^^^^^^\n",
            "  File \"/usr/local/lib/python3.11/dist-packages/pip/_internal/commands/install.py\", line 447, in run\n",
            "^C\n"
          ]
        },
        {
          "output_type": "error",
          "ename": "ModuleNotFoundError",
          "evalue": "No module named 'pytesseract'",
          "traceback": [
            "\u001b[0;31m---------------------------------------------------------------------------\u001b[0m",
            "\u001b[0;31mModuleNotFoundError\u001b[0m                       Traceback (most recent call last)",
            "\u001b[0;32m<ipython-input-2-3715980562>\u001b[0m in \u001b[0;36m<cell line: 0>\u001b[0;34m()\u001b[0m\n\u001b[1;32m     21\u001b[0m \u001b[0;32mimport\u001b[0m \u001b[0mnumpy\u001b[0m \u001b[0;32mas\u001b[0m \u001b[0mnp\u001b[0m\u001b[0;34m\u001b[0m\u001b[0;34m\u001b[0m\u001b[0m\n\u001b[1;32m     22\u001b[0m \u001b[0;32mfrom\u001b[0m \u001b[0mPIL\u001b[0m \u001b[0;32mimport\u001b[0m \u001b[0mImage\u001b[0m\u001b[0;34m\u001b[0m\u001b[0;34m\u001b[0m\u001b[0m\n\u001b[0;32m---> 23\u001b[0;31m \u001b[0;32mimport\u001b[0m \u001b[0mpytesseract\u001b[0m\u001b[0;34m\u001b[0m\u001b[0;34m\u001b[0m\u001b[0m\n\u001b[0m\u001b[1;32m     24\u001b[0m \u001b[0;32mimport\u001b[0m \u001b[0mcv2\u001b[0m\u001b[0;34m\u001b[0m\u001b[0;34m\u001b[0m\u001b[0m\n\u001b[1;32m     25\u001b[0m \u001b[0;32mfrom\u001b[0m \u001b[0mio\u001b[0m \u001b[0;32mimport\u001b[0m \u001b[0mBytesIO\u001b[0m\u001b[0;34m\u001b[0m\u001b[0;34m\u001b[0m\u001b[0m\n",
            "\u001b[0;31mModuleNotFoundError\u001b[0m: No module named 'pytesseract'",
            "",
            "\u001b[0;31m---------------------------------------------------------------------------\u001b[0;32m\nNOTE: If your import is failing due to a missing package, you can\nmanually install dependencies using either !pip or !apt.\n\nTo view examples of installing some common dependencies, click the\n\"Open Examples\" button below.\n\u001b[0;31m---------------------------------------------------------------------------\u001b[0m\n"
          ],
          "errorDetails": {
            "actions": [
              {
                "action": "open_url",
                "actionText": "Open Examples",
                "url": "/notebooks/snippets/importing_libraries.ipynb"
              }
            ]
          }
        }
      ],
      "source": [
        "import sys\n",
        "import os\n",
        "\n",
        "# Python'ın utils modülünü bulabilmesi için proje kök dizinini sys.path'e ekle\n",
        "PROJECT_ROOT = '/content/drive/MyDrive/phishing_detector_app'\n",
        "if PROJECT_ROOT not in sys.path:\n",
        "    sys.path.append(PROJECT_ROOT)\n",
        "\n",
        "# Gerekli Flask ve Sistem Kütüphaneleri\n",
        "# app.py'nin en başına veya ilk importların altına ekle\n",
        "!pip uninstall flask-ngrok -y\n",
        "!pip install pyngrok # pyngrok'u yükle\n",
        "!sudo apt-get update && sudo apt-get install tesseract-ocr tesseract-ocr-eng tesseract-ocr-tur libtesseract-dev libleptonica-dev pkg-config\n",
        "!pip install flask-cors\n",
        "!pip install pytesseract opencv-python\n",
        "\n",
        "from flask import Flask, request, jsonify, render_template\n",
        "from flask_cors import CORS\n",
        "import pickle\n",
        "import pandas as pd\n",
        "import numpy as np\n",
        "from PIL import Image\n",
        "import pytesseract\n",
        "import cv2\n",
        "from io import BytesIO\n",
        "# os zaten import edildi\n",
        "\n",
        "from pyngrok import ngrok # BU SATIRI EKLE! (ngrok objesini import etmek için)\n",
        "\n",
        "# Custom preprocessing ve model sınıflarını import et\n",
        "from utils.preprocessing import clean_text, extract_text_features # create_dnn_model\n",
        "# Scikit-learn ve Keras/TF bileşenleri\n",
        "from sklearn.linear_model import LogisticRegression\n",
        "from sklearn.feature_extraction.text import TfidfVectorizer\n",
        "from sklearn.preprocessing import StandardScaler\n",
        "# DNN kullanıyorsan gerekli importlar:\n",
        "# from scikeras.wrappers import KerasClassifier\n",
        "# from tensorflow.keras.callbacks import EarlyStopping\n",
        "# from tensorflow.keras.models import Model as KerasModel\n",
        "# from tensorflow.keras.layers import Input, Dense, Dropout\n",
        "\n",
        "# =========================================================================\n",
        "# GLOBAL DEĞİŞKENLER VE YÜKLEMELER\n",
        "# =========================================================================\n",
        "\n",
        "model_classifier = None\n",
        "loaded_tfidf_vectorizer = None\n",
        "loaded_scaler = None\n",
        "\n",
        "pytesseract.pytesseract.tesseract_cmd = '/usr/bin/tesseract'\n",
        "\n",
        "app = Flask(__name__)\n",
        "CORS(app)\n",
        "\n",
        "def load_models():\n",
        "    global model_classifier, loaded_tfidf_vectorizer, loaded_scaler\n",
        "    try:\n",
        "        BASE_DRIVE_PATH = '/content/drive/MyDrive/phishing_detector_app'\n",
        "        MODELS_DIR = os.path.join(BASE_DRIVE_PATH, 'models')\n",
        "        MODEL_NAME = \"best_phishing_detector_Original_Imbalanced_Logistic_Regression.pkl\"\n",
        "\n",
        "        MODEL_PATH = os.path.join(MODELS_DIR, MODEL_NAME)\n",
        "        TFIDF_VECTORIZER_PATH = os.path.join(MODELS_DIR, 'tfidf_vectorizer.pkl')\n",
        "        SCALER_PATH = os.path.join(MODELS_DIR, 'scaler.pkl')\n",
        "\n",
        "        with open(MODEL_PATH, 'rb') as f:\n",
        "            model_classifier = pickle.load(f)\n",
        "        with open(TFIDF_VECTORIZER_PATH, 'rb') as f:\n",
        "            loaded_tfidf_vectorizer = pickle.load(f)\n",
        "        with open(SCALER_PATH, 'rb') as f:\n",
        "            loaded_scaler = pickle.load(f)\n",
        "        print(f\"✅ Tüm modeller ve ön işlemciler başarıyla yüklendi.\")\n",
        "    except Exception as e:\n",
        "        print(f\"❌ Model veya ön işlemciler yüklenirken hata oluştu: {e}\")\n",
        "\n",
        "with app.app_context():\n",
        "    load_models()\n",
        "\n",
        "# =========================================================================\n",
        "# TAHMİN FONKSİYONLARI VE API UÇ NOKTALARI\n",
        "# =========================================================================\n",
        "\n",
        "def predict_email_content(email_subject, email_body, email_sender, original_urls_val=0):\n",
        "    if model_classifier is None or loaded_tfidf_vectorizer is None or loaded_scaler is None:\n",
        "        return {\"prediction\": \"Hata\", \"confidence\": 0.0, \"risk_score\": 1.0, \"error\": \"Model veya ön işlemciler başlatılamadı.\"}\n",
        "\n",
        "    input_df_raw = pd.DataFrame([{\n",
        "        'sender': email_sender,\n",
        "        'receiver': '', 'date': '', 'subject': email_subject, 'body': email_body,\n",
        "        'label': 0, 'urls': original_urls_val\n",
        "    }])\n",
        "\n",
        "    input_df_raw['sender_clean'] = input_df_raw['sender'].apply(clean_text)\n",
        "    input_df_raw['subject_clean'] = input_df_raw['subject'].apply(clean_text)\n",
        "    input_df_raw['body_clean'] = input_df_raw['body'].apply(clean_text)\n",
        "    input_df_raw['combined_text'] = input_df_raw['sender_clean'] + ' ' + input_df_raw['subject_clean'] + ' ' + input_df_raw['body_clean']\n",
        "\n",
        "    input_text_features = extract_text_features(input_df_raw)\n",
        "    input_tfidf_features = loaded_tfidf_vectorizer.transform(input_df_raw['combined_text']).toarray()\n",
        "    input_all_features_combined = np.hstack([input_text_features.values, input_tfidf_features])\n",
        "    input_scaled_features = loaded_scaler.transform(input_all_features_combined)\n",
        "\n",
        "    try:\n",
        "        y_pred_proba = model_classifier.predict_proba(input_scaled_features)\n",
        "        if y_pred_proba.ndim > 1 and y_pred_proba.shape[1] > 1:\n",
        "            y_pred_proba_positive_class = y_pred_proba[:, 1]\n",
        "        else:\n",
        "            y_pred_proba_positive_class = y_pred_proba.flatten()\n",
        "\n",
        "        y_pred = (y_pred_proba_positive_class > 0.5).astype(int)\n",
        "\n",
        "        result = {\n",
        "            \"prediction\": \"Phishing\" if y_pred[0] == 1 else \"Normal\",\n",
        "            \"confidence\": float(y_pred_proba_positive_class[0]),\n",
        "            \"risk_score\": float(y_pred_proba_positive_class[0])\n",
        "        }\n",
        "        return result\n",
        "    except Exception as e:\n",
        "        return {\"prediction\": \"Hata\", \"confidence\": 0.0, \"risk_score\": 1.0, \"error\": f\"Tahmin sırasında hata oluştu: {e}\"}\n",
        "\n",
        "# API Uç Noktaları\n",
        "@app.route('/', methods=['GET'])\n",
        "def index():\n",
        "    return render_template('index.html')\n",
        "\n",
        "@app.route('/predict', methods=['POST'])\n",
        "def predict():\n",
        "    if request.is_json:\n",
        "        data = request.get_json()\n",
        "        email_subject = data.get('subject', '')\n",
        "        email_body = data.get('body', '')\n",
        "        email_sender = data.get('sender', '')\n",
        "\n",
        "        if not email_body and not email_subject:\n",
        "            return jsonify({\"error\": \"Metin girişi için 'body' veya 'subject' alanı boş bırakılamaz.\"}), 400\n",
        "\n",
        "        result = predict_email_content(email_subject, email_body, email_sender)\n",
        "        return jsonify(result)\n",
        "\n",
        "    elif 'file' in request.files:\n",
        "        file = request.files['file']\n",
        "        if file.filename == '':\n",
        "            return jsonify({\"error\": \"Dosya seçilmedi.\"}), 400\n",
        "\n",
        "        # OCR ile metin çıkarma\n",
        "        try:\n",
        "            img = Image.open(BytesIO(file.read()))\n",
        "            img_cv = np.array(img.convert('RGB'))\n",
        "            img_gray = cv2.cvtColor(img_cv, cv2.COLOR_RGB2GRAY)\n",
        "\n",
        "            extracted_text = pytesseract.image_to_string(img_gray, lang='eng+tur')\n",
        "\n",
        "            result = predict_email_content(email_subject=\"Görselden Çıkarıldı\", email_body=extracted_text, email_sender=\"bilinmeyen@gorsel.com\")\n",
        "            return jsonify(result)\n",
        "\n",
        "        except Exception as e:\n",
        "            return jsonify({\"error\": f\"Görsel işleme veya OCR hatası: {e}\"}), 500\n",
        "\n",
        "    return jsonify({\"error\": \"Geçersiz istek. Lütfen JSON verisi veya dosya yükleyin.\"}), 400\n",
        "\n",
        "# =========================================================================\n",
        "# Flask uygulamasını başlat (pyngrok ile tünelleyerek)\n",
        "# =========================================================================\n",
        "if __name__ == '__main__':\n",
        "    # pyngrok'u aktif etmek için bir Ngrok Auth Token'a ihtiyacınız olabilir.\n",
        "    # Ngrok web sitesinden (ngrok.com) bir token alın ve buraya yapıştırın.\n",
        "    ngrok.set_auth_token(\"2xbU50LBIAiPX9TO6WOShOSLJmv_2X3gwK2Tg4hE18Sp15BTF\") # Kendi token'ınızı buraya yapıştırın\n",
        "\n",
        "    # Ngrok tünelini başlat\n",
        "    # `connect()` metoduna Flask uygulamasının çalıştığı portu (5000) veriyoruz.\n",
        "    public_url = ngrok.connect(5000)\n",
        "    print(f\"✨ Flask Uygulaması şu adreste çalışıyor: {public_url}\")\n",
        "\n",
        "    # Flask uygulamasını başlat\n",
        "    app.run(debug=True, host='0.0.0.0', port=5000) # host 0.0.0.0 Colab'da zorunlu olabilir"
      ]
    },
    {
      "cell_type": "code",
      "execution_count": null,
      "metadata": {
        "colab": {
          "base_uri": "https://localhost:8080/"
        },
        "id": "FBHvL8jwqXHr",
        "outputId": "a1796348-f75e-44da-853f-e98ce30a8036"
      },
      "outputs": [
        {
          "output_type": "stream",
          "name": "stdout",
          "text": [
            "\u001b[33mWARNING: Skipping flask-ngrok as it is not installed.\u001b[0m\u001b[33m\n",
            "\u001b[0mRequirement already satisfied: pyngrok in /usr/local/lib/python3.11/dist-packages (7.2.11)\n",
            "Requirement already satisfied: flask-cors in /usr/local/lib/python3.11/dist-packages (6.0.0)\n",
            "Collecting pytesseract\n",
            "  Using cached pytesseract-0.3.13-py3-none-any.whl.metadata (11 kB)\n",
            "Requirement already satisfied: opencv-python in /usr/local/lib/python3.11/dist-packages (4.11.0.86)\n",
            "Requirement already satisfied: PyYAML>=5.1 in /usr/local/lib/python3.11/dist-packages (from pyngrok) (6.0.2)\n",
            "Requirement already satisfied: flask>=0.9 in /usr/local/lib/python3.11/dist-packages (from flask-cors) (3.1.1)\n",
            "Requirement already satisfied: Werkzeug>=0.7 in /usr/local/lib/python3.11/dist-packages (from flask-cors) (3.1.3)\n",
            "Requirement already satisfied: packaging>=21.3 in /usr/local/lib/python3.11/dist-packages (from pytesseract) (24.2)\n",
            "Requirement already satisfied: Pillow>=8.0.0 in /usr/local/lib/python3.11/dist-packages (from pytesseract) (11.2.1)\n",
            "Requirement already satisfied: numpy>=1.21.2 in /usr/local/lib/python3.11/dist-packages (from opencv-python) (2.0.2)\n",
            "Requirement already satisfied: blinker>=1.9.0 in /usr/local/lib/python3.11/dist-packages (from flask>=0.9->flask-cors) (1.9.0)\n",
            "Requirement already satisfied: click>=8.1.3 in /usr/local/lib/python3.11/dist-packages (from flask>=0.9->flask-cors) (8.2.1)\n",
            "Requirement already satisfied: itsdangerous>=2.2.0 in /usr/local/lib/python3.11/dist-packages (from flask>=0.9->flask-cors) (2.2.0)\n",
            "Requirement already satisfied: jinja2>=3.1.2 in /usr/local/lib/python3.11/dist-packages (from flask>=0.9->flask-cors) (3.1.6)\n",
            "Requirement already satisfied: markupsafe>=2.1.1 in /usr/local/lib/python3.11/dist-packages (from flask>=0.9->flask-cors) (3.0.2)\n",
            "Using cached pytesseract-0.3.13-py3-none-any.whl (14 kB)\n",
            "Installing collected packages: pytesseract\n",
            "Successfully installed pytesseract-0.3.13\n",
            "Hit:1 http://archive.ubuntu.com/ubuntu jammy InRelease\n",
            "Get:2 http://security.ubuntu.com/ubuntu jammy-security InRelease [129 kB]\n",
            "Get:3 http://archive.ubuntu.com/ubuntu jammy-updates InRelease [128 kB]\n",
            "Get:4 https://cloud.r-project.org/bin/linux/ubuntu jammy-cran40/ InRelease [3,632 B]\n",
            "Get:5 http://archive.ubuntu.com/ubuntu jammy-backports InRelease [127 kB]\n",
            "Hit:6 https://developer.download.nvidia.com/compute/cuda/repos/ubuntu2204/x86_64  InRelease\n",
            "Hit:7 https://ppa.launchpadcontent.net/deadsnakes/ppa/ubuntu jammy InRelease\n",
            "Hit:8 https://ppa.launchpadcontent.net/graphics-drivers/ppa/ubuntu jammy InRelease\n",
            "Hit:9 https://ppa.launchpadcontent.net/ubuntugis/ppa/ubuntu jammy InRelease\n",
            "Get:10 http://security.ubuntu.com/ubuntu jammy-security/universe amd64 Packages [1,246 kB]\n",
            "Get:11 http://security.ubuntu.com/ubuntu jammy-security/main amd64 Packages [2,984 kB]\n",
            "Get:12 https://r2u.stat.illinois.edu/ubuntu jammy InRelease [6,555 B]\n",
            "Get:13 http://archive.ubuntu.com/ubuntu jammy-updates/universe amd64 Packages [1,553 kB]\n",
            "Get:14 http://archive.ubuntu.com/ubuntu jammy-updates/main amd64 Packages [3,295 kB]\n",
            "Get:15 https://r2u.stat.illinois.edu/ubuntu jammy/main all Packages [9,021 kB]\n",
            "Get:16 https://r2u.stat.illinois.edu/ubuntu jammy/main amd64 Packages [2,742 kB]\n",
            "Fetched 775 kB in 3s (275 kB/s)\n",
            "Reading package lists... Done\n",
            "W: Skipping acquire of configured file 'main/source/Sources' as repository 'https://r2u.stat.illinois.edu/ubuntu jammy InRelease' does not seem to provide it (sources.list entry misspelt?)\n",
            "Reading package lists... Done\n",
            "Building dependency tree... Done\n",
            "Reading state information... Done\n",
            "tesseract-ocr is already the newest version (4.1.1-2.1build1).\n",
            "tesseract-ocr-eng is already the newest version (1:4.00~git30-7274cfa-1.1).\n",
            "tesseract-ocr-eng set to manually installed.\n",
            "The following packages were automatically installed and are no longer required:\n",
            "  libbz2-dev libpkgconf3 libreadline-dev\n",
            "Use 'sudo apt autoremove' to remove them.\n",
            "The following additional packages will be installed:\n",
            "  libarchive-dev\n",
            "The following packages will be REMOVED:\n",
            "  pkgconf r-base-dev\n",
            "The following NEW packages will be installed:\n",
            "  libarchive-dev libleptonica-dev libtesseract-dev pkg-config\n",
            "  tesseract-ocr-tur\n",
            "0 upgraded, 5 newly installed, 2 to remove and 39 not upgraded.\n",
            "Need to get 5,370 kB of archives.\n",
            "After this operation, 20.5 MB of additional disk space will be used.\n",
            "Get:1 http://archive.ubuntu.com/ubuntu jammy/main amd64 pkg-config amd64 0.29.2-1ubuntu3 [48.2 kB]\n",
            "Get:2 http://archive.ubuntu.com/ubuntu jammy-updates/main amd64 libarchive-dev amd64 3.6.0-1ubuntu1.4 [581 kB]\n",
            "Get:3 http://archive.ubuntu.com/ubuntu jammy/universe amd64 libleptonica-dev amd64 1.82.0-3build1 [1,562 kB]\n",
            "Get:4 http://archive.ubuntu.com/ubuntu jammy/universe amd64 libtesseract-dev amd64 4.1.1-2.1build1 [1,600 kB]\n",
            "Get:5 http://archive.ubuntu.com/ubuntu jammy/universe amd64 tesseract-ocr-tur all 1:4.00~git30-7274cfa-1.1 [1,578 kB]\n",
            "Fetched 5,370 kB in 0s (31.5 MB/s)\n",
            "debconf: unable to initialize frontend: Dialog\n",
            "debconf: (No usable dialog-like program is installed, so the dialog based frontend cannot be used. at /usr/share/perl5/Debconf/FrontEnd/Dialog.pm line 78, <> line 5.)\n",
            "debconf: falling back to frontend: Readline\n",
            "debconf: unable to initialize frontend: Readline\n",
            "debconf: (This frontend requires a controlling tty.)\n",
            "debconf: falling back to frontend: Teletype\n",
            "dpkg-preconfigure: unable to re-open stdin: \n",
            "(Reading database ... 126111 files and directories currently installed.)\n",
            "Removing r-base-dev (4.5.0-3.2204.0) ...\n",
            "dpkg: pkgconf: dependency problems, but removing anyway as you requested:\n",
            " libsndfile1-dev:amd64 depends on pkg-config; however:\n",
            "  Package pkg-config is not installed.\n",
            "  Package pkgconf which provides pkg-config is to be removed.\n",
            " libopencv-dev depends on pkg-config; however:\n",
            "  Package pkg-config is not installed.\n",
            "  Package pkgconf which provides pkg-config is to be removed.\n",
            " libmkl-dev:amd64 depends on pkg-config; however:\n",
            "  Package pkg-config is not installed.\n",
            "  Package pkgconf which provides pkg-config is to be removed.\n",
            " libjack-dev depends on pkg-config; however:\n",
            "  Package pkg-config is not installed.\n",
            "  Package pkgconf which provides pkg-config is to be removed.\n",
            " libgphoto2-dev:amd64 depends on pkg-config; however:\n",
            "  Package pkg-config is not installed.\n",
            "  Package pkgconf which provides pkg-config is to be removed.\n",
            " libglib2.0-dev:amd64 depends on pkg-config; however:\n",
            "  Package pkg-config is not installed.\n",
            "  Package pkgconf which provides pkg-config is to be removed.\n",
            " libfontconfig-dev:amd64 depends on pkg-config; however:\n",
            "  Package pkg-config is not installed.\n",
            "  Package pkgconf which provides pkg-config is to be removed.\n",
            "\n",
            "Removing pkgconf (1.8.0-1) ...\n",
            "Removing 'diversion of /usr/bin/pkg-config to /usr/bin/pkg-config.real by pkgconf'\n",
            "Removing 'diversion of /usr/share/aclocal/pkg.m4 to /usr/share/aclocal/pkg.real.m4 by pkgconf'\n",
            "Removing 'diversion of /usr/share/man/man1/pkg-config.1.gz to /usr/share/man/man1/pkg-config.real.1.gz by pkgconf'\n",
            "Removing 'diversion of /usr/share/pkg-config-crosswrapper to /usr/share/pkg-config-crosswrapper.real by pkgconf'\n",
            "Selecting previously unselected package pkg-config.\n",
            "(Reading database ... 126087 files and directories currently installed.)\n",
            "Preparing to unpack .../pkg-config_0.29.2-1ubuntu3_amd64.deb ...\n",
            "Unpacking pkg-config (0.29.2-1ubuntu3) ...\n",
            "Selecting previously unselected package libarchive-dev:amd64.\n",
            "Preparing to unpack .../libarchive-dev_3.6.0-1ubuntu1.4_amd64.deb ...\n",
            "Unpacking libarchive-dev:amd64 (3.6.0-1ubuntu1.4) ...\n",
            "Selecting previously unselected package libleptonica-dev.\n",
            "Preparing to unpack .../libleptonica-dev_1.82.0-3build1_amd64.deb ...\n",
            "Unpacking libleptonica-dev (1.82.0-3build1) ...\n",
            "Selecting previously unselected package libtesseract-dev:amd64.\n",
            "Preparing to unpack .../libtesseract-dev_4.1.1-2.1build1_amd64.deb ...\n",
            "Unpacking libtesseract-dev:amd64 (4.1.1-2.1build1) ...\n",
            "Selecting previously unselected package tesseract-ocr-tur.\n",
            "Preparing to unpack .../tesseract-ocr-tur_1%3a4.00~git30-7274cfa-1.1_all.deb ...\n",
            "Unpacking tesseract-ocr-tur (1:4.00~git30-7274cfa-1.1) ...\n",
            "Setting up libleptonica-dev (1.82.0-3build1) ...\n",
            "Setting up tesseract-ocr-tur (1:4.00~git30-7274cfa-1.1) ...\n",
            "Setting up pkg-config (0.29.2-1ubuntu3) ...\n",
            "Setting up libarchive-dev:amd64 (3.6.0-1ubuntu1.4) ...\n",
            "Setting up libtesseract-dev:amd64 (4.1.1-2.1build1) ...\n",
            "Processing triggers for man-db (2.10.2-1) ...\n"
          ]
        }
      ],
      "source": [
        "!pip uninstall flask-ngrok -y\n",
        "!pip install pyngrok flask-cors pytesseract opencv-python\n",
        "!sudo apt-get update && sudo apt-get install tesseract-ocr tesseract-ocr-eng tesseract-ocr-tur libtesseract-dev libleptonica-dev pkg-config"
      ]
    },
    {
      "cell_type": "code",
      "execution_count": null,
      "metadata": {
        "colab": {
          "base_uri": "https://localhost:8080/"
        },
        "id": "rW9iyX66rcMe",
        "outputId": "8cef757a-f701-4ba1-ac56-b997477ad5b7"
      },
      "outputs": [
        {
          "output_type": "stream",
          "name": "stdout",
          "text": [
            "Collecting langdetect\n",
            "  Downloading langdetect-1.0.9.tar.gz (981 kB)\n",
            "\u001b[?25l     \u001b[90m━━━━━━━━━━━━━━━━━━━━━━━━━━━━━━━━━━━━━━━━\u001b[0m \u001b[32m0.0/981.5 kB\u001b[0m \u001b[31m?\u001b[0m eta \u001b[36m-:--:--\u001b[0m\r\u001b[2K     \u001b[91m━━━━━━━━━━━━━━━━━━━━━━━━━━━━━━━━━━━━━\u001b[0m\u001b[91m╸\u001b[0m \u001b[32m972.8/981.5 kB\u001b[0m \u001b[31m25.7 MB/s\u001b[0m eta \u001b[36m0:00:01\u001b[0m\r\u001b[2K     \u001b[91m━━━━━━━━━━━━━━━━━━━━━━━━━━━━━━━━━━━━━\u001b[0m\u001b[91m╸\u001b[0m \u001b[32m972.8/981.5 kB\u001b[0m \u001b[31m25.7 MB/s\u001b[0m eta \u001b[36m0:00:01\u001b[0m\r\u001b[2K     \u001b[90m━━━━━━━━━━━━━━━━━━━━━━━━━━━━━━━━━━━━━━\u001b[0m \u001b[32m981.5/981.5 kB\u001b[0m \u001b[31m11.1 MB/s\u001b[0m eta \u001b[36m0:00:00\u001b[0m\n",
            "\u001b[?25h  Preparing metadata (setup.py) ... \u001b[?25l\u001b[?25hdone\n",
            "Requirement already satisfied: six in /usr/local/lib/python3.11/dist-packages (from langdetect) (1.17.0)\n",
            "Building wheels for collected packages: langdetect\n",
            "  Building wheel for langdetect (setup.py) ... \u001b[?25l\u001b[?25hdone\n",
            "  Created wheel for langdetect: filename=langdetect-1.0.9-py3-none-any.whl size=993223 sha256=b17b91d2d7c3ea8ff1f197b2aa05a22be17e163caffe166811fcbfe85078a57f\n",
            "  Stored in directory: /root/.cache/pip/wheels/0a/f2/b2/e5ca405801e05eb7c8ed5b3b4bcf1fcabcd6272c167640072e\n",
            "Successfully built langdetect\n",
            "Installing collected packages: langdetect\n",
            "Successfully installed langdetect-1.0.9\n"
          ]
        }
      ],
      "source": [
        "!pip install langdetect"
      ]
    },
    {
      "cell_type": "code",
      "execution_count": null,
      "metadata": {
        "colab": {
          "base_uri": "https://localhost:8080/"
        },
        "id": "Y5Elc370pl6S",
        "outputId": "1f6ce143-173b-4fce-eb00-1e220f83ad87"
      },
      "outputs": [
        {
          "output_type": "stream",
          "name": "stderr",
          "text": [
            "[nltk_data] Downloading package punkt to /root/nltk_data...\n",
            "[nltk_data]   Unzipping tokenizers/punkt.zip.\n",
            "[nltk_data] Downloading package stopwords to /root/nltk_data...\n",
            "[nltk_data]   Unzipping corpora/stopwords.zip.\n",
            "[nltk_data] Downloading package wordnet to /root/nltk_data...\n"
          ]
        }
      ],
      "source": [
        "import sys\n",
        "import os\n",
        "import threading\n",
        "import time\n",
        "\n",
        "# Python'ın utils modülünü bulabilmesi için proje kök dizinini sys.path'e ekle\n",
        "PROJECT_ROOT = '/content/drive/MyDrive/phishing_detector_app'\n",
        "if PROJECT_ROOT not in sys.path:\n",
        "    sys.path.append(PROJECT_ROOT)\n",
        "\n",
        "from flask import Flask, request, jsonify, render_template\n",
        "from flask_cors import CORS\n",
        "import pickle\n",
        "import pandas as pd\n",
        "import numpy as np\n",
        "from PIL import Image\n",
        "import pytesseract\n",
        "import cv2\n",
        "from io import BytesIO\n",
        "from pyngrok import ngrok\n",
        "\n",
        "# Custom preprocessing ve model sınıflarını import et\n",
        "from utils.preprocessing import clean_text, extract_text_features\n",
        "\n"
      ]
    },
    {
      "cell_type": "code",
      "execution_count": null,
      "metadata": {
        "id": "mmG500y5qOSQ"
      },
      "outputs": [],
      "source": [
        "# =========================================================================\n",
        "# GLOBAL DEĞİŞKENLER VE YÜKLEMELER\n",
        "# =========================================================================\n",
        "\n",
        "model_classifier = None\n",
        "loaded_tfidf_vectorizer = None\n",
        "loaded_scaler = None\n",
        "\n",
        "pytesseract.pytesseract.tesseract_cmd = '/usr/bin/tesseract'\n",
        "TEMPLATES_DIR = os.path.join(PROJECT_ROOT, 'templates')\n",
        "app = Flask(__name__,\n",
        "           template_folder=TEMPLATES_DIR)\n",
        "CORS(app, resources={\n",
        "    r\"/*\": {\n",
        "        \"origins\": [\"chrome-extension://*\"],\n",
        "        \"methods\": [\"GET\", \"POST\", \"OPTIONS\"],\n",
        "        \"allow_headers\": [\"Content-Type\", \"Authorization\"]\n",
        "    }\n",
        "})\n",
        "\n",
        "def load_models():\n",
        "    global model_classifier, loaded_tfidf_vectorizer, loaded_scaler\n",
        "    try:\n",
        "        BASE_DRIVE_PATH = '/content/drive/MyDrive/phishing_detector_app'\n",
        "        MODELS_DIR = os.path.join(BASE_DRIVE_PATH, 'models')\n",
        "        MODEL_NAME = \"best_phishing_detector_Original_Imbalanced_Logistic_Regression.pkl\"\n",
        "\n",
        "        MODEL_PATH = os.path.join(MODELS_DIR, MODEL_NAME)\n",
        "        TFIDF_VECTORIZER_PATH = os.path.join(MODELS_DIR, 'tfidf_vectorizer.pkl')\n",
        "        SCALER_PATH = os.path.join(MODELS_DIR, 'scaler.pkl')\n",
        "\n",
        "        with open(MODEL_PATH, 'rb') as f:\n",
        "            model_classifier = pickle.load(f)\n",
        "        with open(TFIDF_VECTORIZER_PATH, 'rb') as f:\n",
        "            loaded_tfidf_vectorizer = pickle.load(f)\n",
        "        with open(SCALER_PATH, 'rb') as f:\n",
        "            loaded_scaler = pickle.load(f)\n",
        "        print(f\"✅ Tüm modeller ve ön işlemciler başarıyla yüklendi.\")\n",
        "        return True\n",
        "    except Exception as e:\n",
        "        print(f\"❌ Model veya ön işlemciler yüklenirken hata oluştu: {e}\")\n",
        "        return False\n",
        "\n"
      ]
    },
    {
      "cell_type": "code",
      "execution_count": null,
      "metadata": {
        "id": "raGIl_jWrjXb"
      },
      "outputs": [],
      "source": [
        "# =========================================================================\n",
        "# TAHMİN FONKSİYONLARI VE API UÇ NOKTALARI\n",
        "# =========================================================================\n",
        "\n",
        "def predict_email_content(email_subject, email_body, email_sender, original_urls_val=0):\n",
        "    if model_classifier is None or loaded_tfidf_vectorizer is None or loaded_scaler is None:\n",
        "        return {\"prediction\": \"Hata\", \"confidence\": 0.0, \"risk_score\": 1.0, \"error\": \"Model veya ön işlemciler başlatılamadı.\"}\n",
        "\n",
        "    input_df_raw = pd.DataFrame([{\n",
        "        'sender': email_sender, 'receiver': '', 'date': '', 'subject': email_subject, 'body': email_body,\n",
        "        'label': 0, 'urls': original_urls_val\n",
        "    }])\n",
        "\n",
        "    input_df_raw['sender_clean'] = input_df_raw['sender'].apply(clean_text)\n",
        "    input_df_raw['subject_clean'] = input_df_raw['subject'].apply(clean_text)\n",
        "    input_df_raw['body_clean'] = input_df_raw['body'].apply(clean_text)\n",
        "    input_df_raw['combined_text'] = input_df_raw['sender_clean'] + ' ' + input_df_raw['subject_clean'] + ' ' + input_df_raw['body_clean']\n",
        "\n",
        "    input_text_features = extract_text_features(input_df_raw)\n",
        "    input_tfidf_features = loaded_tfidf_vectorizer.transform(input_df_raw['combined_text']).toarray()\n",
        "    input_all_features_combined = np.hstack([input_text_features.values, input_tfidf_features])\n",
        "    input_scaled_features = loaded_scaler.transform(input_all_features_combined)\n",
        "\n",
        "    try:\n",
        "        y_pred_proba = model_classifier.predict_proba(input_scaled_features)\n",
        "        # y_pred_proba her zaman [Normal_Olasılık, Phishing_Olasılık] şeklinde olmalı\n",
        "        # Positive class (1: Phishing) olasılığı\n",
        "        phishing_probability = y_pred_proba[0, 1]\n",
        "        normal_probability = y_pred_proba[0, 0]\n",
        "\n",
        "        # Tahmin (0.5 eşiği ile)\n",
        "        y_pred_class = 1 if phishing_probability > 0.5 else 0\n",
        "\n",
        "        # Tahmine Güven: Modelin verdiği karara ne kadar emin olduğu\n",
        "        # Eğer Phishing dediyse, phishing olasılığına güvenir.\n",
        "        # Eğer Normal dediyse, normal olasılığına güvenir.\n",
        "        confidence_in_prediction = phishing_probability if y_pred_class == 1 else normal_probability\n",
        "\n",
        "        result = {\n",
        "            \"prediction\": \"Phishing\" if y_pred_class == 1 else \"Normal\",\n",
        "            \"confidence_in_prediction\": float(confidence_in_prediction), # Yeni: Tahmine güven\n",
        "            \"phishing_probability\": float(phishing_probability),       # Yeni: Phishing olma olasılığı\n",
        "            # \"confidence\" ve \"risk_score\" yerine bu iki yeni alan kullanıldı.\n",
        "        }\n",
        "\n",
        "        print(f\"DEBUG: Flask API'den dönen sonuç: {result}\")\n",
        "        return result\n",
        "    except Exception as e:\n",
        "        return {\"prediction\": \"Hata\", \"confidence\": 0.0, \"risk_score\": 1.0, \"error\": f\"Tahmin sırasında hata oluştu: {e}\"}\n",
        "\n",
        "## API Uç Noktaları\n",
        "@app.route('/', methods=['GET'])\n",
        "def index():\n",
        "    return render_template('index.html')\n",
        "\n",
        "@app.route('/predict', methods=['POST'])\n",
        "def predict():\n",
        "    email_subject = ''\n",
        "    email_body = ''\n",
        "    email_sender = ''\n",
        "\n",
        "    if request.is_json:\n",
        "        data = request.get_json()\n",
        "        email_subject = data.get('subject', '')\n",
        "        email_body = data.get('body', '')\n",
        "        email_sender = data.get('sender', '')\n",
        "\n",
        "        # KISITLAMA EKLENDİ: Metin girişi için konu ve/veya gövde metni yeterli uzunlukta olmalı\n",
        "        MIN_TEXT_LENGTH = 20 # Minimum metin uzunluğu (örneğin 20 karakter)\n",
        "        if (not email_body or len(email_body) < MIN_TEXT_LENGTH) and \\\n",
        "           (not email_subject or len(email_subject) < MIN_TEXT_LENGTH):\n",
        "            return jsonify({\"error\": f\"Metin girişi için konu ve/veya gövde en az {MIN_TEXT_LENGTH} karakter uzunluğunda olmalıdır. Lütfen bir e-posta açık olduğundan emin olun.\"}), 400\n",
        "\n",
        "        result = predict_email_content(email_subject, email_body, email_sender)\n",
        "        return jsonify(result)\n",
        "\n",
        "    elif 'file' in request.files:\n",
        "        file = request.files['file']\n",
        "        if file.filename == '':\n",
        "            return jsonify({\"error\": \"Dosya seçilmedi.\"}), 400\n",
        "\n",
        "        # OCR ile metin çıkarma\n",
        "        try:\n",
        "            img = Image.open(BytesIO(file.read()))\n",
        "            img_cv = np.array(img.convert('RGB'))\n",
        "            img_gray = cv2.cvtColor(img_cv, cv2.COLOR_RGB2GRAY)\n",
        "\n",
        "            extracted_text = pytesseract.image_to_string(img_gray, lang='eng+tur')\n",
        "\n",
        "            # KISITLAMA EKLENDİ: OCR ile çıkarılan metin yeterli uzunlukta olmalı\n",
        "            MIN_OCR_TEXT_LENGTH = 50 # OCR metni için minimum uzunluk\n",
        "            if not extracted_text or len(extracted_text) < MIN_OCR_TEXT_LENGTH:\n",
        "                return jsonify({\"error\": f\"Görselden anlamlı metin çıkarılamadı veya çok kısa (<{MIN_OCR_TEXT_LENGTH} karakter). Daha net bir görsel deneyin.\"}), 400\n",
        "\n",
        "            result = predict_email_content(email_subject=\"Görselden Çıkarıldı\", email_body=extracted_text, email_sender=\"bilinmeyen@gorsel.com\")\n",
        "            return jsonify(result)\n",
        "\n",
        "        except Exception as e:\n",
        "            return jsonify({\"error\": f\"Görsel işleme veya OCR hatası: {e}\"}), 500\n",
        "\n",
        "    return jsonify({\"error\": \"Geçersiz istek. Lütfen JSON verisi veya dosya yükleyin.\"}), 400\n",
        "\n",
        "def start_ngrok():\n",
        "    \"\"\"Ngrok'u ayrı thread'de başlat\"\"\"\n",
        "    time.sleep(2)  # Flask'ın başlamasını bekle\n",
        "    try:\n",
        "        # Ngrok auth token'ı ayarla\n",
        "        ngrok.set_auth_token(\"2xbU50LBIAiPX9TO6WOShOSLJmv_2X3gwK2Tg4hE18Sp15BTF\")\n",
        "\n",
        "        # Ngrok tünelini başlat\n",
        "        public_url = ngrok.connect(5000)\n",
        "        print(f\"\\n🚀 Flask Uygulaması şu adreste çalışıyor: {public_url}\")\n",
        "        print(f\"🔗 Google Extension'da bu URL'i kullan: {public_url}\")\n",
        "        print(f\"🧪 Test için: {public_url}/health\")\n",
        "\n",
        "    except Exception as e:\n",
        "        print(f\"❌ Ngrok başlatılırken hata: {e}\")\n",
        "\n"
      ]
    },
    {
      "cell_type": "code",
      "execution_count": null,
      "metadata": {
        "colab": {
          "base_uri": "https://localhost:8080/"
        },
        "id": "DkpQyqBnro5S",
        "outputId": "893e6450-ef21-4e35-96dd-06f7f0761d2b"
      },
      "outputs": [
        {
          "output_type": "stream",
          "name": "stdout",
          "text": [
            "🔧 Modeller yükleniyor...\n",
            "✅ Tüm modeller ve ön işlemciler başarıyla yüklendi.\n",
            "🌐 Flask sunucusu başlatılıyor...\n",
            " * Serving Flask app '__main__'\n",
            " * Debug mode: off\n"
          ]
        },
        {
          "output_type": "stream",
          "name": "stderr",
          "text": [
            "INFO:werkzeug:\u001b[31m\u001b[1mWARNING: This is a development server. Do not use it in a production deployment. Use a production WSGI server instead.\u001b[0m\n",
            " * Running on all addresses (0.0.0.0)\n",
            " * Running on http://127.0.0.1:5000\n",
            " * Running on http://172.28.0.12:5000\n",
            "INFO:werkzeug:\u001b[33mPress CTRL+C to quit\u001b[0m\n"
          ]
        },
        {
          "output_type": "stream",
          "name": "stdout",
          "text": [
            "\n",
            "🚀 Flask Uygulaması şu adreste çalışıyor: NgrokTunnel: \"https://cc9d-35-204-240-0.ngrok-free.app\" -> \"http://localhost:5000\"\n",
            "🔗 Google Extension'da bu URL'i kullan: NgrokTunnel: \"https://cc9d-35-204-240-0.ngrok-free.app\" -> \"http://localhost:5000\"\n",
            "🧪 Test için: NgrokTunnel: \"https://cc9d-35-204-240-0.ngrok-free.app\" -> \"http://localhost:5000\"/health\n"
          ]
        },
        {
          "output_type": "stream",
          "name": "stderr",
          "text": [
            "INFO:werkzeug:127.0.0.1 - - [10/Jun/2025 17:45:48] \"OPTIONS /predict HTTP/1.1\" 200 -\n",
            "INFO:werkzeug:127.0.0.1 - - [10/Jun/2025 17:45:48] \"POST /predict HTTP/1.1\" 200 -\n"
          ]
        },
        {
          "output_type": "stream",
          "name": "stdout",
          "text": [
            "DEBUG: Flask API'den dönen sonuç: {'prediction': 'Normal', 'confidence_in_prediction': 0.9999727031306517, 'phishing_probability': 2.729686934831275e-05}\n"
          ]
        },
        {
          "output_type": "stream",
          "name": "stderr",
          "text": [
            "INFO:werkzeug:127.0.0.1 - - [10/Jun/2025 17:45:57] \"OPTIONS /predict HTTP/1.1\" 200 -\n",
            "INFO:werkzeug:127.0.0.1 - - [10/Jun/2025 17:45:57] \"POST /predict HTTP/1.1\" 200 -\n"
          ]
        },
        {
          "output_type": "stream",
          "name": "stdout",
          "text": [
            "DEBUG: Flask API'den dönen sonuç: {'prediction': 'Phishing', 'confidence_in_prediction': 0.9337284782247657, 'phishing_probability': 0.9337284782247657}\n"
          ]
        },
        {
          "output_type": "stream",
          "name": "stderr",
          "text": [
            "INFO:werkzeug:127.0.0.1 - - [10/Jun/2025 17:46:05] \"OPTIONS /predict HTTP/1.1\" 200 -\n",
            "INFO:werkzeug:127.0.0.1 - - [10/Jun/2025 17:46:05] \"POST /predict HTTP/1.1\" 200 -\n"
          ]
        },
        {
          "output_type": "stream",
          "name": "stdout",
          "text": [
            "DEBUG: Flask API'den dönen sonuç: {'prediction': 'Phishing', 'confidence_in_prediction': 0.9337284782247657, 'phishing_probability': 0.9337284782247657}\n"
          ]
        },
        {
          "output_type": "stream",
          "name": "stderr",
          "text": [
            "INFO:werkzeug:127.0.0.1 - - [10/Jun/2025 17:46:14] \"OPTIONS /predict HTTP/1.1\" 200 -\n",
            "INFO:werkzeug:127.0.0.1 - - [10/Jun/2025 17:46:14] \"POST /predict HTTP/1.1\" 200 -\n"
          ]
        },
        {
          "output_type": "stream",
          "name": "stdout",
          "text": [
            "DEBUG: Flask API'den dönen sonuç: {'prediction': 'Normal', 'confidence_in_prediction': 0.9984117031276625, 'phishing_probability': 0.0015882968723375476}\n"
          ]
        },
        {
          "output_type": "stream",
          "name": "stderr",
          "text": [
            "INFO:werkzeug:127.0.0.1 - - [10/Jun/2025 17:46:22] \"OPTIONS /predict HTTP/1.1\" 200 -\n",
            "INFO:werkzeug:127.0.0.1 - - [10/Jun/2025 17:46:22] \"POST /predict HTTP/1.1\" 200 -\n"
          ]
        },
        {
          "output_type": "stream",
          "name": "stdout",
          "text": [
            "DEBUG: Flask API'den dönen sonuç: {'prediction': 'Normal', 'confidence_in_prediction': 0.9999736500602273, 'phishing_probability': 2.6349939772633165e-05}\n"
          ]
        },
        {
          "output_type": "stream",
          "name": "stderr",
          "text": [
            "INFO:werkzeug:127.0.0.1 - - [10/Jun/2025 17:46:27] \"OPTIONS /predict HTTP/1.1\" 200 -\n",
            "INFO:werkzeug:127.0.0.1 - - [10/Jun/2025 17:46:28] \"POST /predict HTTP/1.1\" 200 -\n"
          ]
        },
        {
          "output_type": "stream",
          "name": "stdout",
          "text": [
            "DEBUG: Flask API'den dönen sonuç: {'prediction': 'Normal', 'confidence_in_prediction': 0.9999637077310602, 'phishing_probability': 3.6292268939762425e-05}\n"
          ]
        },
        {
          "output_type": "stream",
          "name": "stderr",
          "text": [
            "INFO:werkzeug:127.0.0.1 - - [10/Jun/2025 17:46:33] \"OPTIONS /predict HTTP/1.1\" 200 -\n",
            "INFO:werkzeug:127.0.0.1 - - [10/Jun/2025 17:46:34] \"POST /predict HTTP/1.1\" 200 -\n"
          ]
        },
        {
          "output_type": "stream",
          "name": "stdout",
          "text": [
            "DEBUG: Flask API'den dönen sonuç: {'prediction': 'Phishing', 'confidence_in_prediction': 0.9337284782247657, 'phishing_probability': 0.9337284782247657}\n"
          ]
        },
        {
          "output_type": "stream",
          "name": "stderr",
          "text": [
            "INFO:werkzeug:127.0.0.1 - - [10/Jun/2025 17:46:42] \"OPTIONS /predict HTTP/1.1\" 200 -\n",
            "INFO:werkzeug:127.0.0.1 - - [10/Jun/2025 17:46:43] \"POST /predict HTTP/1.1\" 200 -\n"
          ]
        },
        {
          "output_type": "stream",
          "name": "stdout",
          "text": [
            "DEBUG: Flask API'den dönen sonuç: {'prediction': 'Normal', 'confidence_in_prediction': 0.9787266697079191, 'phishing_probability': 0.021273330292080853}\n"
          ]
        },
        {
          "output_type": "stream",
          "name": "stderr",
          "text": [
            "INFO:werkzeug:127.0.0.1 - - [10/Jun/2025 17:46:49] \"OPTIONS /predict HTTP/1.1\" 200 -\n",
            "INFO:werkzeug:127.0.0.1 - - [10/Jun/2025 17:46:49] \"POST /predict HTTP/1.1\" 200 -\n"
          ]
        },
        {
          "output_type": "stream",
          "name": "stdout",
          "text": [
            "DEBUG: Flask API'den dönen sonuç: {'prediction': 'Normal', 'confidence_in_prediction': 0.999999997353367, 'phishing_probability': 2.6466330315196475e-09}\n"
          ]
        },
        {
          "output_type": "stream",
          "name": "stderr",
          "text": [
            "INFO:werkzeug:127.0.0.1 - - [10/Jun/2025 17:47:36] \"OPTIONS /predict HTTP/1.1\" 200 -\n",
            "INFO:werkzeug:127.0.0.1 - - [10/Jun/2025 17:47:36] \"POST /predict HTTP/1.1\" 200 -\n"
          ]
        },
        {
          "output_type": "stream",
          "name": "stdout",
          "text": [
            "DEBUG: Flask API'den dönen sonuç: {'prediction': 'Normal', 'confidence_in_prediction': 0.9998767607942364, 'phishing_probability': 0.00012323920576359456}\n"
          ]
        },
        {
          "output_type": "stream",
          "name": "stderr",
          "text": [
            "INFO:werkzeug:127.0.0.1 - - [10/Jun/2025 17:47:43] \"OPTIONS /predict HTTP/1.1\" 200 -\n",
            "INFO:werkzeug:127.0.0.1 - - [10/Jun/2025 17:47:44] \"POST /predict HTTP/1.1\" 200 -\n"
          ]
        },
        {
          "output_type": "stream",
          "name": "stdout",
          "text": [
            "DEBUG: Flask API'den dönen sonuç: {'prediction': 'Normal', 'confidence_in_prediction': 0.9999632275798931, 'phishing_probability': 3.6772420106947324e-05}\n"
          ]
        },
        {
          "output_type": "stream",
          "name": "stderr",
          "text": [
            "INFO:werkzeug:127.0.0.1 - - [10/Jun/2025 17:47:50] \"OPTIONS /predict HTTP/1.1\" 200 -\n",
            "INFO:werkzeug:127.0.0.1 - - [10/Jun/2025 17:47:51] \"POST /predict HTTP/1.1\" 200 -\n"
          ]
        },
        {
          "output_type": "stream",
          "name": "stdout",
          "text": [
            "DEBUG: Flask API'den dönen sonuç: {'prediction': 'Normal', 'confidence_in_prediction': 0.9999995855926057, 'phishing_probability': 4.1440739433155663e-07}\n"
          ]
        },
        {
          "output_type": "stream",
          "name": "stderr",
          "text": [
            "INFO:werkzeug:127.0.0.1 - - [10/Jun/2025 17:47:57] \"OPTIONS /predict HTTP/1.1\" 200 -\n",
            "INFO:werkzeug:127.0.0.1 - - [10/Jun/2025 17:47:58] \"POST /predict HTTP/1.1\" 200 -\n"
          ]
        },
        {
          "output_type": "stream",
          "name": "stdout",
          "text": [
            "DEBUG: Flask API'den dönen sonuç: {'prediction': 'Normal', 'confidence_in_prediction': 0.9191423574133527, 'phishing_probability': 0.0808576425866473}\n"
          ]
        },
        {
          "output_type": "stream",
          "name": "stderr",
          "text": [
            "INFO:werkzeug:127.0.0.1 - - [10/Jun/2025 17:48:03] \"OPTIONS /predict HTTP/1.1\" 200 -\n",
            "INFO:werkzeug:127.0.0.1 - - [10/Jun/2025 17:48:04] \"POST /predict HTTP/1.1\" 200 -\n"
          ]
        },
        {
          "output_type": "stream",
          "name": "stdout",
          "text": [
            "DEBUG: Flask API'den dönen sonuç: {'prediction': 'Normal', 'confidence_in_prediction': 0.9999993234945629, 'phishing_probability': 6.765054370966499e-07}\n"
          ]
        },
        {
          "output_type": "stream",
          "name": "stderr",
          "text": [
            "INFO:werkzeug:127.0.0.1 - - [10/Jun/2025 17:50:41] \"OPTIONS /predict HTTP/1.1\" 200 -\n",
            "INFO:werkzeug:127.0.0.1 - - [10/Jun/2025 17:50:41] \"POST /predict HTTP/1.1\" 200 -\n"
          ]
        },
        {
          "output_type": "stream",
          "name": "stdout",
          "text": [
            "DEBUG: Flask API'den dönen sonuç: {'prediction': 'Normal', 'confidence_in_prediction': 0.9395591641847199, 'phishing_probability': 0.06044083581528009}\n"
          ]
        },
        {
          "output_type": "stream",
          "name": "stderr",
          "text": [
            "INFO:werkzeug:127.0.0.1 - - [10/Jun/2025 17:51:21] \"OPTIONS /predict HTTP/1.1\" 200 -\n",
            "INFO:werkzeug:127.0.0.1 - - [10/Jun/2025 17:51:22] \"POST /predict HTTP/1.1\" 200 -\n"
          ]
        },
        {
          "output_type": "stream",
          "name": "stdout",
          "text": [
            "DEBUG: Flask API'den dönen sonuç: {'prediction': 'Normal', 'confidence_in_prediction': 0.9999727031306517, 'phishing_probability': 2.729686934831275e-05}\n"
          ]
        },
        {
          "output_type": "stream",
          "name": "stderr",
          "text": [
            "INFO:werkzeug:127.0.0.1 - - [10/Jun/2025 17:51:31] \"OPTIONS /predict HTTP/1.1\" 200 -\n",
            "INFO:werkzeug:127.0.0.1 - - [10/Jun/2025 17:51:32] \"POST /predict HTTP/1.1\" 200 -\n"
          ]
        },
        {
          "output_type": "stream",
          "name": "stdout",
          "text": [
            "DEBUG: Flask API'den dönen sonuç: {'prediction': 'Normal', 'confidence_in_prediction': 0.9395591641847199, 'phishing_probability': 0.06044083581528009}\n"
          ]
        },
        {
          "output_type": "stream",
          "name": "stderr",
          "text": [
            "INFO:werkzeug:127.0.0.1 - - [10/Jun/2025 17:57:47] \"OPTIONS /predict HTTP/1.1\" 200 -\n",
            "INFO:werkzeug:127.0.0.1 - - [10/Jun/2025 17:57:47] \"POST /predict HTTP/1.1\" 200 -\n"
          ]
        },
        {
          "output_type": "stream",
          "name": "stdout",
          "text": [
            "DEBUG: Flask API'den dönen sonuç: {'prediction': 'Normal', 'confidence_in_prediction': 0.9733984994589819, 'phishing_probability': 0.026601500541018078}\n"
          ]
        },
        {
          "output_type": "stream",
          "name": "stderr",
          "text": [
            "INFO:werkzeug:127.0.0.1 - - [10/Jun/2025 17:58:09] \"OPTIONS /predict HTTP/1.1\" 200 -\n",
            "INFO:werkzeug:127.0.0.1 - - [10/Jun/2025 17:58:10] \"POST /predict HTTP/1.1\" 200 -\n"
          ]
        },
        {
          "output_type": "stream",
          "name": "stdout",
          "text": [
            "DEBUG: Flask API'den dönen sonuç: {'prediction': 'Normal', 'confidence_in_prediction': 0.9999727031306517, 'phishing_probability': 2.729686934831275e-05}\n"
          ]
        },
        {
          "output_type": "stream",
          "name": "stderr",
          "text": [
            "INFO:werkzeug:127.0.0.1 - - [10/Jun/2025 17:58:16] \"OPTIONS /predict HTTP/1.1\" 200 -\n",
            "INFO:werkzeug:127.0.0.1 - - [10/Jun/2025 17:58:17] \"POST /predict HTTP/1.1\" 200 -\n"
          ]
        },
        {
          "output_type": "stream",
          "name": "stdout",
          "text": [
            "DEBUG: Flask API'den dönen sonuç: {'prediction': 'Normal', 'confidence_in_prediction': 0.9787266697079191, 'phishing_probability': 0.021273330292080853}\n"
          ]
        }
      ],
      "source": [
        "# =========================================================================\n",
        "# Flask uygulamasını başlat\n",
        "# =========================================================================\n",
        "if __name__ == '__main__':\n",
        "    print(\"🔧 Modeller yükleniyor...\")\n",
        "    if not load_models():\n",
        "        print(\"❌ Modeller yüklenemedi, uygulama durduruluyor.\")\n",
        "        exit(1)\n",
        "\n",
        "    print(\"🌐 Flask sunucusu başlatılıyor...\")\n",
        "\n",
        "    # Ngrok'u ayrı thread'de başlat\n",
        "    ngrok_thread = threading.Thread(target=start_ngrok)\n",
        "    ngrok_thread.daemon = True\n",
        "    ngrok_thread.start()\n",
        "\n",
        "    # Flask uygulamasını başlat\n",
        "    app.run(debug=False, host='0.0.0.0', port=5000, threaded=True)"
      ]
    }
  ],
  "metadata": {
    "colab": {
      "provenance": []
    },
    "kernelspec": {
      "display_name": "Python 3",
      "name": "python3"
    },
    "language_info": {
      "name": "python"
    }
  },
  "nbformat": 4,
  "nbformat_minor": 0
}